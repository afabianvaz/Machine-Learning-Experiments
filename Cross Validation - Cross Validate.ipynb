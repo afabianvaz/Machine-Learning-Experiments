{
 "cells": [
  {
   "cell_type": "code",
   "execution_count": 1,
   "metadata": {},
   "outputs": [],
   "source": [
    "import pandas as pd\n",
    "import numpy as np\n",
    "import matplotlib.pyplot as plt\n",
    "import seaborn as sns\n",
    "%matplotlib inline"
   ]
  },
  {
   "cell_type": "code",
   "execution_count": 4,
   "metadata": {},
   "outputs": [],
   "source": [
    "df = pd.read_csv('Advertising.csv')"
   ]
  },
  {
   "cell_type": "code",
   "execution_count": 3,
   "metadata": {},
   "outputs": [],
   "source": [
    "X = df.drop(['sales'], axis =1)\n",
    "\n",
    "y = df['sales']"
   ]
  },
  {
   "cell_type": "code",
   "execution_count": 5,
   "metadata": {},
   "outputs": [],
   "source": [
    "from sklearn.model_selection import train_test_split"
   ]
  },
  {
   "cell_type": "code",
   "execution_count": 6,
   "metadata": {},
   "outputs": [],
   "source": [
    "X_train, X_test, y_train, y_test = train_test_split(X, y, test_size = 0.3, random_state =101)"
   ]
  },
  {
   "cell_type": "code",
   "execution_count": 7,
   "metadata": {},
   "outputs": [],
   "source": [
    "from sklearn.preprocessing import StandardScaler"
   ]
  },
  {
   "cell_type": "code",
   "execution_count": 8,
   "metadata": {},
   "outputs": [],
   "source": [
    "scaler = StandardScaler()"
   ]
  },
  {
   "cell_type": "code",
   "execution_count": 9,
   "metadata": {},
   "outputs": [
    {
     "data": {
      "text/plain": [
       "StandardScaler()"
      ]
     },
     "execution_count": 9,
     "metadata": {},
     "output_type": "execute_result"
    }
   ],
   "source": [
    "scaler.fit(X_train)"
   ]
  },
  {
   "cell_type": "code",
   "execution_count": 30,
   "metadata": {},
   "outputs": [],
   "source": [
    "X_train = scaler.transform(X_train)\n",
    "X_test = scaler.transform(X_test)"
   ]
  },
  {
   "cell_type": "code",
   "execution_count": 31,
   "metadata": {},
   "outputs": [],
   "source": [
    "from sklearn.linear_model import Ridge\n",
    "from sklearn.model_selection import cross_validate"
   ]
  },
  {
   "cell_type": "code",
   "execution_count": 32,
   "metadata": {},
   "outputs": [],
   "source": [
    "model= Ridge(alpha = 100)"
   ]
  },
  {
   "cell_type": "code",
   "execution_count": 33,
   "metadata": {},
   "outputs": [],
   "source": [
    "scores = cross_validate(model, X_train, y_train, scoring = ['neg_mean_squared_error', 'neg_mean_absolute_error'], cv=10)"
   ]
  },
  {
   "cell_type": "code",
   "execution_count": 34,
   "metadata": {},
   "outputs": [
    {
     "data": {
      "text/plain": [
       "{'fit_time': array([0.00400448, 0.00299549, 0.0030005 , 0.00299597, 0.00300169,\n",
       "        0.00300097, 0.00300026, 0.00299811, 0.00300026, 0.00800228]),\n",
       " 'score_time': array([0.00299931, 0.00300598, 0.00199866, 0.00299907, 0.00199795,\n",
       "        0.00300384, 0.00300479, 0.00299597, 0.00299907, 0.02498984]),\n",
       " 'test_neg_mean_squared_error': array([-25.8830941 , -35.8105753 , -19.53916894, -25.52314471,\n",
       "        -30.3489827 , -31.48286639, -20.29421312, -35.14797663,\n",
       "        -22.04463281, -20.31268323]),\n",
       " 'test_neg_mean_absolute_error': array([-4.02333405, -4.92884899, -3.38820751, -4.30691223, -4.34627408,\n",
       "        -4.51013697, -3.52874567, -5.06649293, -4.21855633, -3.79832232])}"
      ]
     },
     "execution_count": 34,
     "metadata": {},
     "output_type": "execute_result"
    }
   ],
   "source": [
    "scores"
   ]
  },
  {
   "cell_type": "code",
   "execution_count": 37,
   "metadata": {},
   "outputs": [],
   "source": [
    "scores = pd.DataFrame(scores)"
   ]
  },
  {
   "cell_type": "code",
   "execution_count": 39,
   "metadata": {},
   "outputs": [
    {
     "data": {
      "text/html": [
       "<div>\n",
       "<style scoped>\n",
       "    .dataframe tbody tr th:only-of-type {\n",
       "        vertical-align: middle;\n",
       "    }\n",
       "\n",
       "    .dataframe tbody tr th {\n",
       "        vertical-align: top;\n",
       "    }\n",
       "\n",
       "    .dataframe thead th {\n",
       "        text-align: right;\n",
       "    }\n",
       "</style>\n",
       "<table border=\"1\" class=\"dataframe\">\n",
       "  <thead>\n",
       "    <tr style=\"text-align: right;\">\n",
       "      <th></th>\n",
       "      <th>fit_time</th>\n",
       "      <th>score_time</th>\n",
       "      <th>test_neg_mean_squared_error</th>\n",
       "      <th>test_neg_mean_absolute_error</th>\n",
       "    </tr>\n",
       "  </thead>\n",
       "  <tbody>\n",
       "    <tr>\n",
       "      <th>0</th>\n",
       "      <td>0.004004</td>\n",
       "      <td>0.002999</td>\n",
       "      <td>-25.883094</td>\n",
       "      <td>-4.023334</td>\n",
       "    </tr>\n",
       "    <tr>\n",
       "      <th>1</th>\n",
       "      <td>0.002995</td>\n",
       "      <td>0.003006</td>\n",
       "      <td>-35.810575</td>\n",
       "      <td>-4.928849</td>\n",
       "    </tr>\n",
       "    <tr>\n",
       "      <th>2</th>\n",
       "      <td>0.003000</td>\n",
       "      <td>0.001999</td>\n",
       "      <td>-19.539169</td>\n",
       "      <td>-3.388208</td>\n",
       "    </tr>\n",
       "    <tr>\n",
       "      <th>3</th>\n",
       "      <td>0.002996</td>\n",
       "      <td>0.002999</td>\n",
       "      <td>-25.523145</td>\n",
       "      <td>-4.306912</td>\n",
       "    </tr>\n",
       "    <tr>\n",
       "      <th>4</th>\n",
       "      <td>0.003002</td>\n",
       "      <td>0.001998</td>\n",
       "      <td>-30.348983</td>\n",
       "      <td>-4.346274</td>\n",
       "    </tr>\n",
       "    <tr>\n",
       "      <th>5</th>\n",
       "      <td>0.003001</td>\n",
       "      <td>0.003004</td>\n",
       "      <td>-31.482866</td>\n",
       "      <td>-4.510137</td>\n",
       "    </tr>\n",
       "    <tr>\n",
       "      <th>6</th>\n",
       "      <td>0.003000</td>\n",
       "      <td>0.003005</td>\n",
       "      <td>-20.294213</td>\n",
       "      <td>-3.528746</td>\n",
       "    </tr>\n",
       "    <tr>\n",
       "      <th>7</th>\n",
       "      <td>0.002998</td>\n",
       "      <td>0.002996</td>\n",
       "      <td>-35.147977</td>\n",
       "      <td>-5.066493</td>\n",
       "    </tr>\n",
       "    <tr>\n",
       "      <th>8</th>\n",
       "      <td>0.003000</td>\n",
       "      <td>0.002999</td>\n",
       "      <td>-22.044633</td>\n",
       "      <td>-4.218556</td>\n",
       "    </tr>\n",
       "    <tr>\n",
       "      <th>9</th>\n",
       "      <td>0.008002</td>\n",
       "      <td>0.024990</td>\n",
       "      <td>-20.312683</td>\n",
       "      <td>-3.798322</td>\n",
       "    </tr>\n",
       "  </tbody>\n",
       "</table>\n",
       "</div>"
      ],
      "text/plain": [
       "   fit_time  score_time  test_neg_mean_squared_error  \\\n",
       "0  0.004004    0.002999                   -25.883094   \n",
       "1  0.002995    0.003006                   -35.810575   \n",
       "2  0.003000    0.001999                   -19.539169   \n",
       "3  0.002996    0.002999                   -25.523145   \n",
       "4  0.003002    0.001998                   -30.348983   \n",
       "5  0.003001    0.003004                   -31.482866   \n",
       "6  0.003000    0.003005                   -20.294213   \n",
       "7  0.002998    0.002996                   -35.147977   \n",
       "8  0.003000    0.002999                   -22.044633   \n",
       "9  0.008002    0.024990                   -20.312683   \n",
       "\n",
       "   test_neg_mean_absolute_error  \n",
       "0                     -4.023334  \n",
       "1                     -4.928849  \n",
       "2                     -3.388208  \n",
       "3                     -4.306912  \n",
       "4                     -4.346274  \n",
       "5                     -4.510137  \n",
       "6                     -3.528746  \n",
       "7                     -5.066493  \n",
       "8                     -4.218556  \n",
       "9                     -3.798322  "
      ]
     },
     "execution_count": 39,
     "metadata": {},
     "output_type": "execute_result"
    }
   ],
   "source": [
    "scores"
   ]
  },
  {
   "cell_type": "code",
   "execution_count": 40,
   "metadata": {},
   "outputs": [
    {
     "data": {
      "text/plain": [
       "fit_time                         0.003600\n",
       "score_time                       0.004999\n",
       "test_neg_mean_squared_error    -26.638734\n",
       "test_neg_mean_absolute_error    -4.211583\n",
       "dtype: float64"
      ]
     },
     "execution_count": 40,
     "metadata": {},
     "output_type": "execute_result"
    }
   ],
   "source": [
    "scores.mean()"
   ]
  },
  {
   "cell_type": "code",
   "execution_count": 41,
   "metadata": {},
   "outputs": [],
   "source": [
    "model = Ridge(alpha =1)"
   ]
  },
  {
   "cell_type": "code",
   "execution_count": 42,
   "metadata": {},
   "outputs": [],
   "source": [
    "scores = cross_validate(model, X_train, y_train, scoring = ['neg_mean_squared_error', 'neg_mean_absolute_error'], cv=10)"
   ]
  },
  {
   "cell_type": "code",
   "execution_count": 43,
   "metadata": {},
   "outputs": [
    {
     "data": {
      "text/plain": [
       "{'fit_time': array([0.00400543, 0.00299907, 0.00200129, 0.00399685, 0.00599694,\n",
       "        0.00299883, 0.00300002, 0.0030005 , 0.00300694, 0.00199842]),\n",
       " 'score_time': array([0.00199556, 0.00300074, 0.00299859, 0.00199986, 0.00300169,\n",
       "        0.00300121, 0.00300169, 0.0029974 , 0.00199676, 0.00400114]),\n",
       " 'test_neg_mean_squared_error': array([-16.48146849, -26.65461203, -13.91902074, -19.12261817,\n",
       "        -20.17222341, -28.8686766 , -14.33899588, -26.55484205,\n",
       "        -23.00389894, -17.45852363]),\n",
       " 'test_neg_mean_absolute_error': array([-3.15223709, -4.23852856, -2.64448092, -3.83787549, -3.36769491,\n",
       "        -4.03141324, -2.90253104, -4.30564932, -4.17525438, -3.25132342])}"
      ]
     },
     "execution_count": 43,
     "metadata": {},
     "output_type": "execute_result"
    }
   ],
   "source": [
    "scores"
   ]
  },
  {
   "cell_type": "code",
   "execution_count": 44,
   "metadata": {},
   "outputs": [],
   "source": [
    "scores = pd.DataFrame(scores)"
   ]
  },
  {
   "cell_type": "code",
   "execution_count": 45,
   "metadata": {},
   "outputs": [
    {
     "data": {
      "text/html": [
       "<div>\n",
       "<style scoped>\n",
       "    .dataframe tbody tr th:only-of-type {\n",
       "        vertical-align: middle;\n",
       "    }\n",
       "\n",
       "    .dataframe tbody tr th {\n",
       "        vertical-align: top;\n",
       "    }\n",
       "\n",
       "    .dataframe thead th {\n",
       "        text-align: right;\n",
       "    }\n",
       "</style>\n",
       "<table border=\"1\" class=\"dataframe\">\n",
       "  <thead>\n",
       "    <tr style=\"text-align: right;\">\n",
       "      <th></th>\n",
       "      <th>fit_time</th>\n",
       "      <th>score_time</th>\n",
       "      <th>test_neg_mean_squared_error</th>\n",
       "      <th>test_neg_mean_absolute_error</th>\n",
       "    </tr>\n",
       "  </thead>\n",
       "  <tbody>\n",
       "    <tr>\n",
       "      <th>0</th>\n",
       "      <td>0.004005</td>\n",
       "      <td>0.001996</td>\n",
       "      <td>-16.481468</td>\n",
       "      <td>-3.152237</td>\n",
       "    </tr>\n",
       "    <tr>\n",
       "      <th>1</th>\n",
       "      <td>0.002999</td>\n",
       "      <td>0.003001</td>\n",
       "      <td>-26.654612</td>\n",
       "      <td>-4.238529</td>\n",
       "    </tr>\n",
       "    <tr>\n",
       "      <th>2</th>\n",
       "      <td>0.002001</td>\n",
       "      <td>0.002999</td>\n",
       "      <td>-13.919021</td>\n",
       "      <td>-2.644481</td>\n",
       "    </tr>\n",
       "    <tr>\n",
       "      <th>3</th>\n",
       "      <td>0.003997</td>\n",
       "      <td>0.002000</td>\n",
       "      <td>-19.122618</td>\n",
       "      <td>-3.837875</td>\n",
       "    </tr>\n",
       "    <tr>\n",
       "      <th>4</th>\n",
       "      <td>0.005997</td>\n",
       "      <td>0.003002</td>\n",
       "      <td>-20.172223</td>\n",
       "      <td>-3.367695</td>\n",
       "    </tr>\n",
       "    <tr>\n",
       "      <th>5</th>\n",
       "      <td>0.002999</td>\n",
       "      <td>0.003001</td>\n",
       "      <td>-28.868677</td>\n",
       "      <td>-4.031413</td>\n",
       "    </tr>\n",
       "    <tr>\n",
       "      <th>6</th>\n",
       "      <td>0.003000</td>\n",
       "      <td>0.003002</td>\n",
       "      <td>-14.338996</td>\n",
       "      <td>-2.902531</td>\n",
       "    </tr>\n",
       "    <tr>\n",
       "      <th>7</th>\n",
       "      <td>0.003000</td>\n",
       "      <td>0.002997</td>\n",
       "      <td>-26.554842</td>\n",
       "      <td>-4.305649</td>\n",
       "    </tr>\n",
       "    <tr>\n",
       "      <th>8</th>\n",
       "      <td>0.003007</td>\n",
       "      <td>0.001997</td>\n",
       "      <td>-23.003899</td>\n",
       "      <td>-4.175254</td>\n",
       "    </tr>\n",
       "    <tr>\n",
       "      <th>9</th>\n",
       "      <td>0.001998</td>\n",
       "      <td>0.004001</td>\n",
       "      <td>-17.458524</td>\n",
       "      <td>-3.251323</td>\n",
       "    </tr>\n",
       "  </tbody>\n",
       "</table>\n",
       "</div>"
      ],
      "text/plain": [
       "   fit_time  score_time  test_neg_mean_squared_error  \\\n",
       "0  0.004005    0.001996                   -16.481468   \n",
       "1  0.002999    0.003001                   -26.654612   \n",
       "2  0.002001    0.002999                   -13.919021   \n",
       "3  0.003997    0.002000                   -19.122618   \n",
       "4  0.005997    0.003002                   -20.172223   \n",
       "5  0.002999    0.003001                   -28.868677   \n",
       "6  0.003000    0.003002                   -14.338996   \n",
       "7  0.003000    0.002997                   -26.554842   \n",
       "8  0.003007    0.001997                   -23.003899   \n",
       "9  0.001998    0.004001                   -17.458524   \n",
       "\n",
       "   test_neg_mean_absolute_error  \n",
       "0                     -3.152237  \n",
       "1                     -4.238529  \n",
       "2                     -2.644481  \n",
       "3                     -3.837875  \n",
       "4                     -3.367695  \n",
       "5                     -4.031413  \n",
       "6                     -2.902531  \n",
       "7                     -4.305649  \n",
       "8                     -4.175254  \n",
       "9                     -3.251323  "
      ]
     },
     "execution_count": 45,
     "metadata": {},
     "output_type": "execute_result"
    }
   ],
   "source": [
    "scores"
   ]
  },
  {
   "cell_type": "code",
   "execution_count": 46,
   "metadata": {},
   "outputs": [
    {
     "data": {
      "text/plain": [
       "fit_time                         0.003300\n",
       "score_time                       0.002799\n",
       "test_neg_mean_squared_error    -20.657488\n",
       "test_neg_mean_absolute_error    -3.590699\n",
       "dtype: float64"
      ]
     },
     "execution_count": 46,
     "metadata": {},
     "output_type": "execute_result"
    }
   ],
   "source": [
    "scores.mean()"
   ]
  },
  {
   "cell_type": "code",
   "execution_count": 49,
   "metadata": {},
   "outputs": [
    {
     "data": {
      "text/plain": [
       "Ridge(alpha=1)"
      ]
     },
     "execution_count": 49,
     "metadata": {},
     "output_type": "execute_result"
    }
   ],
   "source": [
    "model.fit(X_train, y_train)"
   ]
  },
  {
   "cell_type": "code",
   "execution_count": 51,
   "metadata": {},
   "outputs": [],
   "source": [
    "y_final_pred = model.predict(X_test)"
   ]
  },
  {
   "cell_type": "code",
   "execution_count": 53,
   "metadata": {},
   "outputs": [
    {
     "ename": "TypeError",
     "evalue": "'tuple' object is not callable",
     "output_type": "error",
     "traceback": [
      "\u001b[1;31m---------------------------------------------------------------------------\u001b[0m",
      "\u001b[1;31mTypeError\u001b[0m                                 Traceback (most recent call last)",
      "\u001b[1;32m<ipython-input-53-09d6fbe024da>\u001b[0m in \u001b[0;36m<module>\u001b[1;34m\u001b[0m\n\u001b[1;32m----> 1\u001b[1;33m \u001b[0mmean_squared_error\u001b[0m\u001b[1;33m(\u001b[0m\u001b[0my_test\u001b[0m\u001b[1;33m,\u001b[0m \u001b[0my_final_pred\u001b[0m\u001b[1;33m)\u001b[0m\u001b[1;33m\u001b[0m\u001b[1;33m\u001b[0m\u001b[0m\n\u001b[0m",
      "\u001b[1;31mTypeError\u001b[0m: 'tuple' object is not callable"
     ]
    }
   ],
   "source": [
    "mean_squared_error(y_test, y_final_pred)"
   ]
  },
  {
   "cell_type": "markdown",
   "metadata": {},
   "source": []
  }
 ],
 "metadata": {
  "kernelspec": {
   "display_name": "Python 3",
   "language": "python",
   "name": "python3"
  },
  "language_info": {
   "codemirror_mode": {
    "name": "ipython",
    "version": 3
   },
   "file_extension": ".py",
   "mimetype": "text/x-python",
   "name": "python",
   "nbconvert_exporter": "python",
   "pygments_lexer": "ipython3",
   "version": "3.7.6"
  }
 },
 "nbformat": 4,
 "nbformat_minor": 4
}
