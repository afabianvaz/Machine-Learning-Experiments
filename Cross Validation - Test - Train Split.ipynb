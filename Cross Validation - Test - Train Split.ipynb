{
 "cells": [
  {
   "cell_type": "code",
   "execution_count": 6,
   "metadata": {},
   "outputs": [],
   "source": [
    "import pandas as pd\n",
    "import numpy as np\n",
    "import matplotlib.pyplot as plt\n",
    "import seaborn as sns\n",
    "%matplotlib inline"
   ]
  },
  {
   "cell_type": "code",
   "execution_count": 7,
   "metadata": {},
   "outputs": [],
   "source": [
    "df = pd.read_csv('Advertising.csv')"
   ]
  },
  {
   "cell_type": "code",
   "execution_count": 8,
   "metadata": {},
   "outputs": [
    {
     "data": {
      "text/html": [
       "<div>\n",
       "<style scoped>\n",
       "    .dataframe tbody tr th:only-of-type {\n",
       "        vertical-align: middle;\n",
       "    }\n",
       "\n",
       "    .dataframe tbody tr th {\n",
       "        vertical-align: top;\n",
       "    }\n",
       "\n",
       "    .dataframe thead th {\n",
       "        text-align: right;\n",
       "    }\n",
       "</style>\n",
       "<table border=\"1\" class=\"dataframe\">\n",
       "  <thead>\n",
       "    <tr style=\"text-align: right;\">\n",
       "      <th></th>\n",
       "      <th>TV</th>\n",
       "      <th>radio</th>\n",
       "      <th>newspaper</th>\n",
       "      <th>sales</th>\n",
       "    </tr>\n",
       "  </thead>\n",
       "  <tbody>\n",
       "    <tr>\n",
       "      <th>0</th>\n",
       "      <td>230.1</td>\n",
       "      <td>37.8</td>\n",
       "      <td>69.2</td>\n",
       "      <td>22.1</td>\n",
       "    </tr>\n",
       "    <tr>\n",
       "      <th>1</th>\n",
       "      <td>44.5</td>\n",
       "      <td>39.3</td>\n",
       "      <td>45.1</td>\n",
       "      <td>10.4</td>\n",
       "    </tr>\n",
       "    <tr>\n",
       "      <th>2</th>\n",
       "      <td>17.2</td>\n",
       "      <td>45.9</td>\n",
       "      <td>69.3</td>\n",
       "      <td>9.3</td>\n",
       "    </tr>\n",
       "    <tr>\n",
       "      <th>3</th>\n",
       "      <td>151.5</td>\n",
       "      <td>41.3</td>\n",
       "      <td>58.5</td>\n",
       "      <td>18.5</td>\n",
       "    </tr>\n",
       "    <tr>\n",
       "      <th>4</th>\n",
       "      <td>180.8</td>\n",
       "      <td>10.8</td>\n",
       "      <td>58.4</td>\n",
       "      <td>12.9</td>\n",
       "    </tr>\n",
       "  </tbody>\n",
       "</table>\n",
       "</div>"
      ],
      "text/plain": [
       "      TV  radio  newspaper  sales\n",
       "0  230.1   37.8       69.2   22.1\n",
       "1   44.5   39.3       45.1   10.4\n",
       "2   17.2   45.9       69.3    9.3\n",
       "3  151.5   41.3       58.5   18.5\n",
       "4  180.8   10.8       58.4   12.9"
      ]
     },
     "execution_count": 8,
     "metadata": {},
     "output_type": "execute_result"
    }
   ],
   "source": [
    "df.head()"
   ]
  },
  {
   "cell_type": "code",
   "execution_count": 9,
   "metadata": {},
   "outputs": [],
   "source": [
    "X = df.drop(['sales'], axis =1)\n",
    "\n",
    "y = df['sales']"
   ]
  },
  {
   "cell_type": "code",
   "execution_count": 10,
   "metadata": {},
   "outputs": [],
   "source": [
    "from sklearn.model_selection import train_test_split"
   ]
  },
  {
   "cell_type": "code",
   "execution_count": 11,
   "metadata": {},
   "outputs": [],
   "source": [
    "X_train, X_test, y_train, y_test = train_test_split(X, y, test_size = 0.3, random_state =101)"
   ]
  },
  {
   "cell_type": "code",
   "execution_count": 12,
   "metadata": {},
   "outputs": [],
   "source": [
    "from sklearn.preprocessing import StandardScaler"
   ]
  },
  {
   "cell_type": "code",
   "execution_count": 13,
   "metadata": {},
   "outputs": [],
   "source": [
    "scaler = StandardScaler()"
   ]
  },
  {
   "cell_type": "code",
   "execution_count": 14,
   "metadata": {},
   "outputs": [
    {
     "data": {
      "text/plain": [
       "StandardScaler()"
      ]
     },
     "execution_count": 14,
     "metadata": {},
     "output_type": "execute_result"
    }
   ],
   "source": [
    "scaler.fit(X_train)"
   ]
  },
  {
   "cell_type": "code",
   "execution_count": 15,
   "metadata": {},
   "outputs": [],
   "source": [
    "X_train = scaler.transform(X_train)"
   ]
  },
  {
   "cell_type": "code",
   "execution_count": 16,
   "metadata": {},
   "outputs": [],
   "source": [
    "X_test = scaler.transform(X_test)"
   ]
  },
  {
   "cell_type": "code",
   "execution_count": 17,
   "metadata": {},
   "outputs": [],
   "source": [
    "from sklearn.linear_model import Ridge"
   ]
  },
  {
   "cell_type": "code",
   "execution_count": 18,
   "metadata": {},
   "outputs": [],
   "source": [
    "model= Ridge(alpha = 100)"
   ]
  },
  {
   "cell_type": "code",
   "execution_count": 19,
   "metadata": {},
   "outputs": [
    {
     "data": {
      "text/plain": [
       "Ridge(alpha=100)"
      ]
     },
     "execution_count": 19,
     "metadata": {},
     "output_type": "execute_result"
    }
   ],
   "source": [
    "model.fit(X_train, y_train)"
   ]
  },
  {
   "cell_type": "code",
   "execution_count": 20,
   "metadata": {},
   "outputs": [],
   "source": [
    "y_pred=model.predict(X_test)"
   ]
  },
  {
   "cell_type": "code",
   "execution_count": 21,
   "metadata": {},
   "outputs": [
    {
     "data": {
      "text/plain": [
       "array([15.34908128, 17.05755308, 12.73784965, 16.18231062, 10.85075815,\n",
       "        9.87999576, 17.6105132 , 15.80786278, 11.32616781, 17.30158479,\n",
       "       12.8883864 , 13.64670913, 13.71636726, 18.83377117, 17.38617584,\n",
       "       11.59912699, 14.88899736, 10.07145317, 10.14692243, 17.90771073,\n",
       "       10.25837266, 16.71492563, 20.57087744, 19.66643199, 10.14020781,\n",
       "       13.40084066, 18.09910709, 10.80433113, 13.00876939, 13.79206361,\n",
       "       12.73015096, 17.42108555, 11.50183684, 10.10362749, 16.18778637,\n",
       "       10.45161746, 11.25953403, 10.42658319, 12.30681396, 11.82281519,\n",
       "       14.75707677, 11.58372535, 12.01609545, 10.90016204, 12.55896716,\n",
       "       11.62961585, 10.8495293 , 15.74187916, 14.09264772, 18.45114683,\n",
       "       13.43419788, 14.05075373, 16.0980788 , 12.07046074, 13.15048011,\n",
       "        8.75095421, 19.21013193, 12.92686996, 16.49277745, 14.83525505])"
      ]
     },
     "execution_count": 21,
     "metadata": {},
     "output_type": "execute_result"
    }
   ],
   "source": [
    "y_pred"
   ]
  },
  {
   "cell_type": "code",
   "execution_count": 22,
   "metadata": {},
   "outputs": [],
   "source": [
    "from sklearn.metrics import mean_squared_error"
   ]
  },
  {
   "cell_type": "code",
   "execution_count": 23,
   "metadata": {},
   "outputs": [
    {
     "data": {
      "text/plain": [
       "7.34177578903413"
      ]
     },
     "execution_count": 23,
     "metadata": {},
     "output_type": "execute_result"
    }
   ],
   "source": [
    "mean_squared_error(y_test, y_pred)"
   ]
  },
  {
   "cell_type": "code",
   "execution_count": 24,
   "metadata": {},
   "outputs": [],
   "source": [
    "model_two = Ridge(alpha =1)"
   ]
  },
  {
   "cell_type": "code",
   "execution_count": 25,
   "metadata": {},
   "outputs": [
    {
     "data": {
      "text/plain": [
       "Ridge(alpha=1)"
      ]
     },
     "execution_count": 25,
     "metadata": {},
     "output_type": "execute_result"
    }
   ],
   "source": [
    "model_two.fit(X_train, y_train)"
   ]
  },
  {
   "cell_type": "code",
   "execution_count": 26,
   "metadata": {},
   "outputs": [],
   "source": [
    "y_pred_two=model_two.predict(X_test)"
   ]
  },
  {
   "cell_type": "code",
   "execution_count": 27,
   "metadata": {},
   "outputs": [],
   "source": [
    "mean_squared_error = (y_test, y_pred_two)"
   ]
  },
  {
   "cell_type": "code",
   "execution_count": 28,
   "metadata": {},
   "outputs": [
    {
     "data": {
      "text/plain": [
       "(37     14.7\n",
       " 109    19.8\n",
       " 31     11.9\n",
       " 89     16.7\n",
       " 66      9.5\n",
       " 119     6.6\n",
       " 54     20.2\n",
       " 74     17.0\n",
       " 145    10.3\n",
       " 142    20.1\n",
       " 148    10.9\n",
       " 112    14.1\n",
       " 174    11.5\n",
       " 55     23.7\n",
       " 141    19.2\n",
       " 149    10.1\n",
       " 25     12.0\n",
       " 34      9.5\n",
       " 170     8.4\n",
       " 39     21.5\n",
       " 172     7.6\n",
       " 153    19.0\n",
       " 175    27.0\n",
       " 61     24.2\n",
       " 65      9.3\n",
       " 50     11.4\n",
       " 42     20.7\n",
       " 129     9.7\n",
       " 179    12.6\n",
       " 2       9.3\n",
       " 12      9.2\n",
       " 133    19.6\n",
       " 90     11.2\n",
       " 22      5.6\n",
       " 41     17.1\n",
       " 32      9.6\n",
       " 125    10.6\n",
       " 196     9.7\n",
       " 158     7.3\n",
       " 180    10.5\n",
       " 16     12.5\n",
       " 186    10.3\n",
       " 144    11.4\n",
       " 121     7.0\n",
       " 80     11.8\n",
       " 18     11.3\n",
       " 78      5.3\n",
       " 48     14.8\n",
       " 4      12.9\n",
       " 15     22.4\n",
       " 1      10.4\n",
       " 43     12.9\n",
       " 102    14.8\n",
       " 164    11.9\n",
       " 9      10.6\n",
       " 155     3.2\n",
       " 36     25.4\n",
       " 190    10.8\n",
       " 33     17.4\n",
       " 45     14.9\n",
       " Name: sales, dtype: float64,\n",
       " array([15.73544249, 19.56177685, 11.47282584, 16.99614361,  9.19583919,\n",
       "         7.06034338, 20.24078477, 17.27047482,  9.7997058 , 19.18969381,\n",
       "        12.40827613, 13.88321006, 13.72330625, 21.24960621, 18.41451801,\n",
       "        10.00739858, 15.54023734,  7.72694272,  7.59886443, 20.3595504 ,\n",
       "         7.831815  , 18.21607253, 24.61611392, 22.77116018,  8.0117733 ,\n",
       "        12.667102  , 21.40567156,  8.10250725, 12.43158049, 12.53481984,\n",
       "        10.81678067, 19.21537816, 10.09192883,  6.76998079, 17.29636618,\n",
       "         7.81497124,  9.28808588,  8.31202002, 10.6122371 , 10.6533735 ,\n",
       "        13.05491413,  9.80364168, 10.24764859,  8.09836046, 11.58209801,\n",
       "        10.10783927,  9.025001  , 16.24936342, 13.26025422, 20.77690029,\n",
       "        12.51477346, 13.96784546, 17.53696507, 11.15686875, 12.57233878,\n",
       "         5.56009018, 23.21824128, 12.62301353, 18.72931877, 15.18197827]))"
      ]
     },
     "execution_count": 28,
     "metadata": {},
     "output_type": "execute_result"
    }
   ],
   "source": [
    "mean_squared_error"
   ]
  },
  {
   "cell_type": "code",
   "execution_count": null,
   "metadata": {},
   "outputs": [],
   "source": []
  },
  {
   "cell_type": "code",
   "execution_count": null,
   "metadata": {},
   "outputs": [],
   "source": []
  },
  {
   "cell_type": "code",
   "execution_count": null,
   "metadata": {},
   "outputs": [],
   "source": []
  },
  {
   "cell_type": "code",
   "execution_count": null,
   "metadata": {},
   "outputs": [],
   "source": []
  }
 ],
 "metadata": {
  "kernelspec": {
   "display_name": "Python 3",
   "language": "python",
   "name": "python3"
  },
  "language_info": {
   "codemirror_mode": {
    "name": "ipython",
    "version": 3
   },
   "file_extension": ".py",
   "mimetype": "text/x-python",
   "name": "python",
   "nbconvert_exporter": "python",
   "pygments_lexer": "ipython3",
   "version": "3.7.6"
  }
 },
 "nbformat": 4,
 "nbformat_minor": 4
}
