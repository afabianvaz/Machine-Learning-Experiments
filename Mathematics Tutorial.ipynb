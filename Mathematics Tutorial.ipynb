{
 "cells": [
  {
   "cell_type": "code",
   "execution_count": 1,
   "metadata": {},
   "outputs": [
    {
     "name": "stdout",
     "output_type": "stream",
     "text": [
      "My age is 24 years\n",
      "My age is 24 years, 6 months\n",
      "PI is approximately 3.142857\n"
     ]
    }
   ],
   "source": [
    "age = 24\n",
    "print(\"My age is %d years\" % age)\n",
    "\n",
    "major = \"years\"\n",
    "minor = \"months\"\n",
    "print(\"My age is %d %s, %d %s\" %(age, major, 6, minor))\n",
    "print(\"PI is approximately %f\" % (22/7))"
   ]
  },
  {
   "cell_type": "code",
   "execution_count": 6,
   "metadata": {},
   "outputs": [
    {
     "name": "stdout",
     "output_type": "stream",
     "text": [
      "No.1 squared is 1 and cubed is    1\n",
      "********************************************************************************\n",
      "No.2 squared is 4 and cubed is    8\n",
      "********************************************************************************\n",
      "No.3 squared is 9 and cubed is   27\n",
      "********************************************************************************\n",
      "No.4 squared is 16 and cubed is   64\n",
      "********************************************************************************\n",
      "No.5 squared is 25 and cubed is  125\n",
      "********************************************************************************\n",
      "No.6 squared is 36 and cubed is  216\n",
      "********************************************************************************\n",
      "No.7 squared is 49 and cubed is  343\n",
      "********************************************************************************\n",
      "No.8 squared is 64 and cubed is  512\n",
      "********************************************************************************\n",
      "No.9 squared is 81 and cubed is  729\n",
      "********************************************************************************\n",
      "No.10 squared is 100 and cubed is 1000\n",
      "********************************************************************************\n",
      "No.11 squared is 121 and cubed is 1331\n",
      "********************************************************************************\n",
      "No.12 squared is 144 and cubed is 1728\n",
      "********************************************************************************\n"
     ]
    }
   ],
   "source": [
    "for i in range(1, 13):\n",
    "    print(\"No.{} squared is {} and cubed is {:4}\".format(i, i**2, i**3))\n",
    "    print(\"*\"* 80)"
   ]
  },
  {
   "cell_type": "code",
   "execution_count": 1,
   "metadata": {},
   "outputs": [
    {
     "name": "stdout",
     "output_type": "stream",
     "text": [
      "Please enter your name: 58\n",
      "How old are you, 58? 58\n",
      "58\n"
     ]
    }
   ],
   "source": [
    "name = input(\"Please enter your name: \")\n",
    "age = input(\"How old are you, {0}? \".format(name))\n",
    "print(age)"
   ]
  },
  {
   "cell_type": "code",
   "execution_count": null,
   "metadata": {},
   "outputs": [],
   "source": []
  }
 ],
 "metadata": {
  "kernelspec": {
   "display_name": "Python 3",
   "language": "python",
   "name": "python3"
  },
  "language_info": {
   "codemirror_mode": {
    "name": "ipython",
    "version": 3
   },
   "file_extension": ".py",
   "mimetype": "text/x-python",
   "name": "python",
   "nbconvert_exporter": "python",
   "pygments_lexer": "ipython3",
   "version": "3.7.6"
  }
 },
 "nbformat": 4,
 "nbformat_minor": 4
}
