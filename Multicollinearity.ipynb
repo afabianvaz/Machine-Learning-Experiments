{
 "cells": [
  {
   "cell_type": "markdown",
   "metadata": {},
   "source": [
    "# Multicollinearity (Effects, Detection)"
   ]
  },
  {
   "cell_type": "code",
   "execution_count": 25,
   "metadata": {},
   "outputs": [],
   "source": [
    "import numpy as np\n",
    "import pandas as pd\n",
    "import seaborn as sns\n",
    "import matplotlib.pyplot as plt\n",
    "import statsmodels.api as sm\n",
    "import warnings\n",
    "from numpy.linalg import matrix_rank, inv\n",
    "from sklearn.preprocessing import StandardScaler\n",
    "from statsmodels.stats.outliers_influence import variance_inflation_factor\n",
    "from statsmodels.tools.tools import add_constant\n",
    "%matplotlib inline"
   ]
  },
  {
   "cell_type": "code",
   "execution_count": 26,
   "metadata": {},
   "outputs": [],
   "source": [
    "np.set_printoptions(precision=4)\n",
    "pd.set_option('display.float_format', lambda x:'%.3f' % x)\n",
    "warnings.filterwarnings('ignore')"
   ]
  },
  {
   "cell_type": "code",
   "execution_count": 27,
   "metadata": {},
   "outputs": [],
   "source": [
    "def pretty_print_linear(coefs, names=None, sort = False):\n",
    "    if names is None:\n",
    "        names = [\"X%s\" % x for x in range(len(coefs))]\n",
    "    lst = zip(coefs, names)\n",
    "    if sort:\n",
    "        lst = sorted(lst, key = lambda x: -np.abs(x[0]))\n",
    "    return \" + \". join(\"%s * %s\" % (round(coef, 3), name) for coef, name in lst)"
   ]
  },
  {
   "cell_type": "code",
   "execution_count": 28,
   "metadata": {},
   "outputs": [],
   "source": [
    "def plot_correlation(df, numerical_feature_columns, target, k):\n",
    "    cols = df[numerical_feature_columns].corr().nlargest(k, target)[target].index\n",
    "    cm = df[cols].corr()\n",
    "    plt.figure(figsize =(10,7))\n",
    "    return sns.heatmap(cm, annot = True, cmap = 'viridis')"
   ]
  },
  {
   "cell_type": "code",
   "execution_count": 29,
   "metadata": {},
   "outputs": [],
   "source": [
    "def fit_ols(x, y):\n",
    "    model = sm.OLS(y,x)\n",
    "    results = model.fit()\n",
    "    return results.summary()"
   ]
  },
  {
   "cell_type": "code",
   "execution_count": 46,
   "metadata": {},
   "outputs": [],
   "source": [
    "def generate_vif(df,target):\n",
    "    X_var = add_constant(df.loc[:, df.columns != target])\n",
    "    return pd.Series(\n",
    "        [variance_inflation_factor(X_var.values, i) for i in range(X_var.shape[1])],\n",
    "        index = X_var.columns)"
   ]
  },
  {
   "cell_type": "code",
   "execution_count": 47,
   "metadata": {},
   "outputs": [],
   "source": [
    "def generate_x_y_numeric_target(df, target):\n",
    "    numerical_feature_columns = list(df._get_numeric_data().columns)\n",
    "    X = df.loc[:, df.columns != target].values\n",
    "    Y = df.loc[:, df.columns == target].values\n",
    "    return numerical_feature_columns, X, Y"
   ]
  },
  {
   "cell_type": "code",
   "execution_count": 48,
   "metadata": {},
   "outputs": [
    {
     "data": {
      "text/html": [
       "<div>\n",
       "<style scoped>\n",
       "    .dataframe tbody tr th:only-of-type {\n",
       "        vertical-align: middle;\n",
       "    }\n",
       "\n",
       "    .dataframe tbody tr th {\n",
       "        vertical-align: top;\n",
       "    }\n",
       "\n",
       "    .dataframe thead th {\n",
       "        text-align: right;\n",
       "    }\n",
       "</style>\n",
       "<table border=\"1\" class=\"dataframe\">\n",
       "  <thead>\n",
       "    <tr style=\"text-align: right;\">\n",
       "      <th></th>\n",
       "      <th>x1</th>\n",
       "      <th>x2</th>\n",
       "      <th>x3</th>\n",
       "      <th>y</th>\n",
       "    </tr>\n",
       "  </thead>\n",
       "  <tbody>\n",
       "    <tr>\n",
       "      <th>0</th>\n",
       "      <td>100</td>\n",
       "      <td>110</td>\n",
       "      <td>40</td>\n",
       "      <td>3.900</td>\n",
       "    </tr>\n",
       "    <tr>\n",
       "      <th>1</th>\n",
       "      <td>95</td>\n",
       "      <td>110</td>\n",
       "      <td>40</td>\n",
       "      <td>2.600</td>\n",
       "    </tr>\n",
       "    <tr>\n",
       "      <th>2</th>\n",
       "      <td>90</td>\n",
       "      <td>120</td>\n",
       "      <td>30</td>\n",
       "      <td>2.700</td>\n",
       "    </tr>\n",
       "    <tr>\n",
       "      <th>3</th>\n",
       "      <td>85</td>\n",
       "      <td>110</td>\n",
       "      <td>40</td>\n",
       "      <td>3.000</td>\n",
       "    </tr>\n",
       "    <tr>\n",
       "      <th>4</th>\n",
       "      <td>80</td>\n",
       "      <td>100</td>\n",
       "      <td>20</td>\n",
       "      <td>2.400</td>\n",
       "    </tr>\n",
       "    <tr>\n",
       "      <th>5</th>\n",
       "      <td>75</td>\n",
       "      <td>110</td>\n",
       "      <td>40</td>\n",
       "      <td>2.200</td>\n",
       "    </tr>\n",
       "    <tr>\n",
       "      <th>6</th>\n",
       "      <td>70</td>\n",
       "      <td>90</td>\n",
       "      <td>0</td>\n",
       "      <td>2.100</td>\n",
       "    </tr>\n",
       "    <tr>\n",
       "      <th>7</th>\n",
       "      <td>65</td>\n",
       "      <td>110</td>\n",
       "      <td>40</td>\n",
       "      <td>2.100</td>\n",
       "    </tr>\n",
       "    <tr>\n",
       "      <th>8</th>\n",
       "      <td>60</td>\n",
       "      <td>80</td>\n",
       "      <td>10</td>\n",
       "      <td>1.500</td>\n",
       "    </tr>\n",
       "    <tr>\n",
       "      <th>9</th>\n",
       "      <td>55</td>\n",
       "      <td>80</td>\n",
       "      <td>10</td>\n",
       "      <td>1.800</td>\n",
       "    </tr>\n",
       "  </tbody>\n",
       "</table>\n",
       "</div>"
      ],
      "text/plain": [
       "    x1   x2  x3     y\n",
       "0  100  110  40 3.900\n",
       "1   95  110  40 2.600\n",
       "2   90  120  30 2.700\n",
       "3   85  110  40 3.000\n",
       "4   80  100  20 2.400\n",
       "5   75  110  40 2.200\n",
       "6   70   90   0 2.100\n",
       "7   65  110  40 2.100\n",
       "8   60   80  10 1.500\n",
       "9   55   80  10 1.800"
      ]
     },
     "execution_count": 48,
     "metadata": {},
     "output_type": "execute_result"
    }
   ],
   "source": [
    "df = pd.read_csv(\"dataMulti.csv\")\n",
    "df"
   ]
  },
  {
   "cell_type": "code",
   "execution_count": 49,
   "metadata": {},
   "outputs": [
    {
     "data": {
      "text/plain": [
       "<AxesSubplot:>"
      ]
     },
     "execution_count": 49,
     "metadata": {},
     "output_type": "execute_result"
    },
    {
     "data": {
      "image/png": "[encoded data removed]",
      "text/plain": [
       "<Figure size 720x504 with 2 Axes>"
      ]
     },
     "metadata": {
      "needs_background": "light"
     },
     "output_type": "display_data"
    }
   ],
   "source": [
    "target = \"y\"\n",
    "numeric_cols, X, Y = generate_x_y_numeric_target(df, target)\n",
    "plot_correlation(df, numeric_cols, target, 5)"
   ]
  },
  {
   "cell_type": "code",
   "execution_count": 50,
   "metadata": {},
   "outputs": [
    {
     "name": "stdout",
     "output_type": "stream",
     "text": [
      "                                 OLS Regression Results                                \n",
      "=======================================================================================\n",
      "Dep. Variable:                      y   R-squared (uncentered):                   0.986\n",
      "Model:                            OLS   Adj. R-squared (uncentered):              0.981\n",
      "Method:                 Least Squares   F-statistic:                              169.8\n",
      "Date:                Fri, 13 Nov 2020   Prob (F-statistic):                    6.72e-07\n",
      "Time:                        11:52:21   Log-Likelihood:                         -1.9021\n",
      "No. Observations:                  10   AIC:                                      9.804\n",
      "Df Residuals:                       7   BIC:                                      10.71\n",
      "Df Model:                           3                                                  \n",
      "Covariance Type:            nonrobust                                                  \n",
      "==============================================================================\n",
      "                 coef    std err          t      P>|t|      [0.025      0.975]\n",
      "------------------------------------------------------------------------------\n",
      "x1             0.0405      0.012      3.420      0.011       0.012       0.068\n",
      "x2            -0.0093      0.009     -0.997      0.352      -0.031       0.013\n",
      "x3             0.0090      0.009      0.982      0.359      -0.013       0.031\n",
      "==============================================================================\n",
      "Omnibus:                        0.439   Durbin-Watson:                   2.500\n",
      "Prob(Omnibus):                  0.803   Jarque-Bera (JB):                0.131\n",
      "Skew:                          -0.234   Prob(JB):                        0.937\n",
      "Kurtosis:                       2.692   Cond. No.                         17.9\n",
      "==============================================================================\n",
      "\n",
      "Notes:\n",
      "[1] R² is computed without centering (uncentered) since the model does not contain a constant.\n",
      "[2] Standard Errors assume that the covariance matrix of the errors is correctly specified.\n"
     ]
    }
   ],
   "source": [
    "print(fit_ols(X,Y))"
   ]
  },
  {
   "cell_type": "code",
   "execution_count": 51,
   "metadata": {},
   "outputs": [
    {
     "name": "stdout",
     "output_type": "stream",
     "text": [
      "const   135.872\n",
      "x1        2.384\n",
      "x2        5.028\n",
      "x3        3.441\n",
      "dtype: float64\n"
     ]
    }
   ],
   "source": [
    "print(generate_vif(df, target))"
   ]
  },
  {
   "cell_type": "code",
   "execution_count": 52,
   "metadata": {},
   "outputs": [
    {
     "data": {
      "text/html": [
       "<div>\n",
       "<style scoped>\n",
       "    .dataframe tbody tr th:only-of-type {\n",
       "        vertical-align: middle;\n",
       "    }\n",
       "\n",
       "    .dataframe tbody tr th {\n",
       "        vertical-align: top;\n",
       "    }\n",
       "\n",
       "    .dataframe thead th {\n",
       "        text-align: right;\n",
       "    }\n",
       "</style>\n",
       "<table border=\"1\" class=\"dataframe\">\n",
       "  <thead>\n",
       "    <tr style=\"text-align: right;\">\n",
       "      <th></th>\n",
       "      <th>x1</th>\n",
       "      <th>x2</th>\n",
       "      <th>x3</th>\n",
       "      <th>y</th>\n",
       "      <th>x4</th>\n",
       "    </tr>\n",
       "  </thead>\n",
       "  <tbody>\n",
       "    <tr>\n",
       "      <th>0</th>\n",
       "      <td>100</td>\n",
       "      <td>110</td>\n",
       "      <td>40</td>\n",
       "      <td>3.900</td>\n",
       "      <td>250</td>\n",
       "    </tr>\n",
       "    <tr>\n",
       "      <th>1</th>\n",
       "      <td>95</td>\n",
       "      <td>110</td>\n",
       "      <td>40</td>\n",
       "      <td>2.600</td>\n",
       "      <td>245</td>\n",
       "    </tr>\n",
       "    <tr>\n",
       "      <th>2</th>\n",
       "      <td>90</td>\n",
       "      <td>120</td>\n",
       "      <td>30</td>\n",
       "      <td>2.700</td>\n",
       "      <td>240</td>\n",
       "    </tr>\n",
       "    <tr>\n",
       "      <th>3</th>\n",
       "      <td>85</td>\n",
       "      <td>110</td>\n",
       "      <td>40</td>\n",
       "      <td>3.000</td>\n",
       "      <td>235</td>\n",
       "    </tr>\n",
       "    <tr>\n",
       "      <th>4</th>\n",
       "      <td>80</td>\n",
       "      <td>100</td>\n",
       "      <td>20</td>\n",
       "      <td>2.400</td>\n",
       "      <td>200</td>\n",
       "    </tr>\n",
       "    <tr>\n",
       "      <th>5</th>\n",
       "      <td>75</td>\n",
       "      <td>110</td>\n",
       "      <td>40</td>\n",
       "      <td>2.200</td>\n",
       "      <td>225</td>\n",
       "    </tr>\n",
       "    <tr>\n",
       "      <th>6</th>\n",
       "      <td>70</td>\n",
       "      <td>90</td>\n",
       "      <td>0</td>\n",
       "      <td>2.100</td>\n",
       "      <td>160</td>\n",
       "    </tr>\n",
       "    <tr>\n",
       "      <th>7</th>\n",
       "      <td>65</td>\n",
       "      <td>110</td>\n",
       "      <td>40</td>\n",
       "      <td>2.100</td>\n",
       "      <td>215</td>\n",
       "    </tr>\n",
       "    <tr>\n",
       "      <th>8</th>\n",
       "      <td>60</td>\n",
       "      <td>80</td>\n",
       "      <td>10</td>\n",
       "      <td>1.500</td>\n",
       "      <td>150</td>\n",
       "    </tr>\n",
       "    <tr>\n",
       "      <th>9</th>\n",
       "      <td>55</td>\n",
       "      <td>80</td>\n",
       "      <td>10</td>\n",
       "      <td>1.800</td>\n",
       "      <td>145</td>\n",
       "    </tr>\n",
       "  </tbody>\n",
       "</table>\n",
       "</div>"
      ],
      "text/plain": [
       "    x1   x2  x3     y   x4\n",
       "0  100  110  40 3.900  250\n",
       "1   95  110  40 2.600  245\n",
       "2   90  120  30 2.700  240\n",
       "3   85  110  40 3.000  235\n",
       "4   80  100  20 2.400  200\n",
       "5   75  110  40 2.200  225\n",
       "6   70   90   0 2.100  160\n",
       "7   65  110  40 2.100  215\n",
       "8   60   80  10 1.500  150\n",
       "9   55   80  10 1.800  145"
      ]
     },
     "execution_count": 52,
     "metadata": {},
     "output_type": "execute_result"
    }
   ],
   "source": [
    "df['x4'] = df['x1'] + df['x2'] + df['x3']\n",
    "df"
   ]
  },
  {
   "cell_type": "code",
   "execution_count": 53,
   "metadata": {},
   "outputs": [
    {
     "data": {
      "text/plain": [
       "<AxesSubplot:>"
      ]
     },
     "execution_count": 53,
     "metadata": {},
     "output_type": "execute_result"
    },
    {
     "data": {
      "image/png": "[encoded data removed]",
      "text/plain": [
       "<Figure size 720x504 with 2 Axes>"
      ]
     },
     "metadata": {
      "needs_background": "light"
     },
     "output_type": "display_data"
    }
   ],
   "source": [
    "target = \"y\"\n",
    "numeric_cols, X, Y = generate_x_y_numeric_target(df, target)\n",
    "plot_correlation(df, numeric_cols, target, 5)"
   ]
  },
  {
   "cell_type": "code",
   "execution_count": 54,
   "metadata": {},
   "outputs": [
    {
     "name": "stdout",
     "output_type": "stream",
     "text": [
      "                                 OLS Regression Results                                \n",
      "=======================================================================================\n",
      "Dep. Variable:                      y   R-squared (uncentered):                   0.986\n",
      "Model:                            OLS   Adj. R-squared (uncentered):              0.981\n",
      "Method:                 Least Squares   F-statistic:                              169.8\n",
      "Date:                Fri, 13 Nov 2020   Prob (F-statistic):                    6.72e-07\n",
      "Time:                        11:52:29   Log-Likelihood:                         -1.9021\n",
      "No. Observations:                  10   AIC:                                      9.804\n",
      "Df Residuals:                       7   BIC:                                      10.71\n",
      "Df Model:                           3                                                  \n",
      "Covariance Type:            nonrobust                                                  \n",
      "==============================================================================\n",
      "                 coef    std err          t      P>|t|      [0.025      0.975]\n",
      "------------------------------------------------------------------------------\n",
      "x1             0.0304      0.011      2.692      0.031       0.004       0.057\n",
      "x2            -0.0194      0.011     -1.844      0.108      -0.044       0.005\n",
      "x3            -0.0010      0.008     -0.131      0.899      -0.019       0.017\n",
      "x4             0.0100      0.002      5.540      0.001       0.006       0.014\n",
      "==============================================================================\n",
      "Omnibus:                        0.439   Durbin-Watson:                   2.500\n",
      "Prob(Omnibus):                  0.803   Jarque-Bera (JB):                0.131\n",
      "Skew:                          -0.234   Prob(JB):                        0.937\n",
      "Kurtosis:                       2.692   Cond. No.                     2.27e+16\n",
      "==============================================================================\n",
      "\n",
      "Notes:\n",
      "[1] R² is computed without centering (uncentered) since the model does not contain a constant.\n",
      "[2] Standard Errors assume that the covariance matrix of the errors is correctly specified.\n",
      "[3] The smallest eigenvalue is 1.19e-27. This might indicate that there are\n",
      "strong multicollinearity problems or that the design matrix is singular.\n"
     ]
    }
   ],
   "source": [
    "print(fit_ols(X,Y))"
   ]
  },
  {
   "cell_type": "code",
   "execution_count": 55,
   "metadata": {},
   "outputs": [
    {
     "name": "stdout",
     "output_type": "stream",
     "text": [
      "const   135.872\n",
      "x1          inf\n",
      "x2          inf\n",
      "x3          inf\n",
      "x4          inf\n",
      "dtype: float64\n"
     ]
    }
   ],
   "source": [
    "print (generate_vif(df, target))"
   ]
  },
  {
   "cell_type": "markdown",
   "metadata": {},
   "source": [
    "# Weights Equation in OLS"
   ]
  },
  {
   "cell_type": "code",
   "execution_count": 56,
   "metadata": {},
   "outputs": [
    {
     "name": "stdout",
     "output_type": "stream",
     "text": [
      "[[ 62125  80500  22250 164875]\n",
      " [ 80500 105800  29200 215500]\n",
      " [ 22250  29200   9500  60950]\n",
      " [164875 215500  60950 441325]]\n"
     ]
    }
   ],
   "source": [
    "covariance_matrix = np.dot(X.T, X)\n",
    "print(covariance_matrix)"
   ]
  },
  {
   "cell_type": "code",
   "execution_count": 57,
   "metadata": {},
   "outputs": [
    {
     "data": {
      "text/plain": [
       "3"
      ]
     },
     "execution_count": 57,
     "metadata": {},
     "output_type": "execute_result"
    }
   ],
   "source": [
    "matrix_rank(covariance_matrix)"
   ]
  },
  {
   "cell_type": "code",
   "execution_count": 58,
   "metadata": {},
   "outputs": [],
   "source": [
    "inverse_covariance_matrix = inv(covariance_matrix)"
   ]
  },
  {
   "cell_type": "code",
   "execution_count": 59,
   "metadata": {},
   "outputs": [],
   "source": [
    "X_sliced = X[:, 0:2]\n",
    "covariance_matrix = np.dot(X_sliced.T, X_sliced)"
   ]
  },
  {
   "cell_type": "code",
   "execution_count": 60,
   "metadata": {},
   "outputs": [
    {
     "data": {
      "text/plain": [
       "2"
      ]
     },
     "execution_count": 60,
     "metadata": {},
     "output_type": "execute_result"
    }
   ],
   "source": [
    "matrix_rank(covariance_matrix)"
   ]
  },
  {
   "cell_type": "code",
   "execution_count": 61,
   "metadata": {},
   "outputs": [],
   "source": [
    "inverse_covariance_matrix = inv(covariance_matrix)"
   ]
  },
  {
   "cell_type": "code",
   "execution_count": 64,
   "metadata": {},
   "outputs": [
    {
     "name": "stdout",
     "output_type": "stream",
     "text": [
      "[[ 0.0408]\n",
      " [-0.0071]]\n"
     ]
    }
   ],
   "source": [
    "weights = np.dot(np.dot(inverse_covariance_matrix, X_sliced.T), Y)\n",
    "\n",
    "print(weights)"
   ]
  },
  {
   "cell_type": "code",
   "execution_count": 63,
   "metadata": {},
   "outputs": [
    {
     "name": "stdout",
     "output_type": "stream",
     "text": [
      "                                 OLS Regression Results                                \n",
      "=======================================================================================\n",
      "Dep. Variable:                      y   R-squared (uncentered):                   0.985\n",
      "Model:                            OLS   Adj. R-squared (uncentered):              0.981\n",
      "Method:                 Least Squares   F-statistic:                              255.3\n",
      "Date:                Fri, 13 Nov 2020   Prob (F-statistic):                    5.66e-08\n",
      "Time:                        11:52:40   Log-Likelihood:                         -2.5469\n",
      "No. Observations:                  10   AIC:                                      9.094\n",
      "Df Residuals:                       8   BIC:                                      9.699\n",
      "Df Model:                           2                                                  \n",
      "Covariance Type:            nonrobust                                                  \n",
      "==============================================================================\n",
      "                 coef    std err          t      P>|t|      [0.025      0.975]\n",
      "------------------------------------------------------------------------------\n",
      "x1             0.0408      0.012      3.458      0.009       0.014       0.068\n",
      "x2            -0.0071      0.009     -0.783      0.456      -0.028       0.014\n",
      "==============================================================================\n",
      "Omnibus:                        0.365   Durbin-Watson:                   2.563\n",
      "Prob(Omnibus):                  0.833   Jarque-Bera (JB):                0.333\n",
      "Skew:                           0.332   Prob(JB):                        0.847\n",
      "Kurtosis:                       2.402   Cond. No.                         17.4\n",
      "==============================================================================\n",
      "\n",
      "Notes:\n",
      "[1] R² is computed without centering (uncentered) since the model does not contain a constant.\n",
      "[2] Standard Errors assume that the covariance matrix of the errors is correctly specified.\n"
     ]
    }
   ],
   "source": [
    "print(fit_ols(X_sliced, Y))"
   ]
  },
  {
   "cell_type": "code",
   "execution_count": null,
   "metadata": {},
   "outputs": [],
   "source": []
  },
  {
   "cell_type": "code",
   "execution_count": null,
   "metadata": {},
   "outputs": [],
   "source": []
  },
  {
   "cell_type": "code",
   "execution_count": null,
   "metadata": {},
   "outputs": [],
   "source": []
  }
 ],
 "metadata": {
  "kernelspec": {
   "display_name": "Python 3",
   "language": "python",
   "name": "python3"
  },
  "language_info": {
   "codemirror_mode": {
    "name": "ipython",
    "version": 3
   },
   "file_extension": ".py",
   "mimetype": "text/x-python",
   "name": "python",
   "nbconvert_exporter": "python",
   "pygments_lexer": "ipython3",
   "version": "3.7.6"
  }
 },
 "nbformat": 4,
 "nbformat_minor": 4
}
