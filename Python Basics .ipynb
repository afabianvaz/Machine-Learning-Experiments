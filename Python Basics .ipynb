{
 "cells": [
  {
   "cell_type": "markdown",
   "metadata": {},
   "source": [
    "# Fundamentals\n"
   ]
  },
  {
   "cell_type": "code",
   "execution_count": 2,
   "metadata": {},
   "outputs": [],
   "source": [
    "i=10"
   ]
  },
  {
   "cell_type": "code",
   "execution_count": 3,
   "metadata": {},
   "outputs": [
    {
     "data": {
      "text/plain": [
       "10"
      ]
     },
     "execution_count": 3,
     "metadata": {},
     "output_type": "execute_result"
    }
   ],
   "source": [
    "i"
   ]
  },
  {
   "cell_type": "code",
   "execution_count": 31,
   "metadata": {},
   "outputs": [
    {
     "data": {
      "text/plain": [
       "str"
      ]
     },
     "execution_count": 31,
     "metadata": {},
     "output_type": "execute_result"
    }
   ],
   "source": [
    "k='1+6j'\n",
    "type(k)\n"
   ]
  },
  {
   "cell_type": "code",
   "execution_count": 33,
   "metadata": {},
   "outputs": [
    {
     "ename": "AttributeError",
     "evalue": "'str' object has no attribute 'real'",
     "output_type": "error",
     "traceback": [
      "\u001b[1;31m---------------------------------------------------------------------------\u001b[0m",
      "\u001b[1;31mAttributeError\u001b[0m                            Traceback (most recent call last)",
      "\u001b[1;32m<ipython-input-33-dc33aaf5c506>\u001b[0m in \u001b[0;36m<module>\u001b[1;34m\u001b[0m\n\u001b[1;32m----> 1\u001b[1;33m \u001b[0mtype\u001b[0m\u001b[1;33m(\u001b[0m\u001b[0mk\u001b[0m\u001b[1;33m.\u001b[0m\u001b[0mreal\u001b[0m\u001b[1;33m)\u001b[0m\u001b[1;33m\u001b[0m\u001b[1;33m\u001b[0m\u001b[0m\n\u001b[0m",
      "\u001b[1;31mAttributeError\u001b[0m: 'str' object has no attribute 'real'"
     ]
    }
   ],
   "source": [
    "type(k.real)"
   ]
  },
  {
   "cell_type": "markdown",
   "metadata": {},
   "source": [
    "id(i)"
   ]
  },
  {
   "cell_type": "code",
   "execution_count": 22,
   "metadata": {},
   "outputs": [
    {
     "data": {
      "text/plain": [
       "'A Fabian Vaz'"
      ]
     },
     "execution_count": 22,
     "metadata": {},
     "output_type": "execute_result"
    }
   ],
   "source": [
    "'A'+ \" Fabian\" +' Vaz'"
   ]
  },
  {
   "cell_type": "code",
   "execution_count": 26,
   "metadata": {},
   "outputs": [
    {
     "data": {
      "text/plain": [
       "'1 Fabian Vaz'"
      ]
     },
     "execution_count": 26,
     "metadata": {},
     "output_type": "execute_result"
    }
   ],
   "source": [
    "str(1)+ \" Fabian\" +' Vaz'"
   ]
  },
  {
   "cell_type": "code",
   "execution_count": 28,
   "metadata": {},
   "outputs": [
    {
     "data": {
      "text/plain": [
       "'Fabian Fabian Fabian Fabian Fabian Fabian Fabian Fabian Fabian Fabian '"
      ]
     },
     "execution_count": 28,
     "metadata": {},
     "output_type": "execute_result"
    }
   ],
   "source": [
    "\"Fabian \"*10"
   ]
  },
  {
   "cell_type": "code",
   "execution_count": 39,
   "metadata": {},
   "outputs": [
    {
     "name": "stdout",
     "output_type": "stream",
     "text": [
      "This is first code of mine\n"
     ]
    }
   ],
   "source": [
    "i = 9 \n",
    "if i < 11:\n",
    "    print('This is first code of mine')"
   ]
  },
  {
   "cell_type": "code",
   "execution_count": 40,
   "metadata": {},
   "outputs": [],
   "source": [
    "i = 9 \n",
    "if i == 11:\n",
    "    print('This is first code of mine')"
   ]
  },
  {
   "cell_type": "code",
   "execution_count": 41,
   "metadata": {},
   "outputs": [
    {
     "name": "stdout",
     "output_type": "stream",
     "text": [
      "This is first code of mine\n"
     ]
    }
   ],
   "source": [
    "i = 9 \n",
    "if i == 9:\n",
    "    print('This is first code of mine')"
   ]
  },
  {
   "cell_type": "code",
   "execution_count": 48,
   "metadata": {},
   "outputs": [
    {
     "name": "stdout",
     "output_type": "stream",
     "text": [
      "This is first code of mine\n"
     ]
    }
   ],
   "source": [
    "i = 2\n",
    "if i <  6:\n",
    "    print('This is first code of mine')\n",
    "elif i < 3:\n",
    "    print('this is my elif block')\n",
    "else: \n",
    "    print('This is my final solution')"
   ]
  },
  {
   "cell_type": "code",
   "execution_count": 55,
   "metadata": {},
   "outputs": [
    {
     "name": "stdout",
     "output_type": "stream",
     "text": [
      "This is first code of mine\n"
     ]
    }
   ],
   "source": [
    "i = 9\n",
    "if i > 0:\n",
    "    print('This is first code of mine')\n",
    "elif i > 100:\n",
    "    print('this is my elif block')\n",
    "else: \n",
    "    print('This is my final solution')"
   ]
  },
  {
   "cell_type": "code",
   "execution_count": 60,
   "metadata": {},
   "outputs": [
    {
     "name": "stdout",
     "output_type": "stream",
     "text": [
      "Print this if ont satisisfied this condition \n"
     ]
    }
   ],
   "source": [
    "F = \"Fabian Vaz\"\n",
    "if True:\n",
    "    if F == \"Fabian Va\":\n",
    "        print(\"this two strings are same\")\n",
    "    else:\n",
    "        print('Print this if ont satisisfied this condition ')"
   ]
  },
  {
   "cell_type": "code",
   "execution_count": 62,
   "metadata": {},
   "outputs": [
    {
     "name": "stdout",
     "output_type": "stream",
     "text": [
      "this two strings are same\n"
     ]
    }
   ],
   "source": [
    "F = \"Fabian Vaz\"\n",
    "if True:\n",
    "    if F == \"Fabian Vaz\":\n",
    "        print(\"this two strings are same\")\n",
    "    else:\n",
    "        print('Print this if ont satisisfied this condition ')"
   ]
  },
  {
   "cell_type": "code",
   "execution_count": 63,
   "metadata": {},
   "outputs": [
    {
     "name": "stdout",
     "output_type": "stream",
     "text": [
      "Print this if ont satisisfied this condition \n"
     ]
    }
   ],
   "source": [
    "F = \"Fabian Vaz\"\n",
    "if True:\n",
    "    if F == \"Fabian Va\":\n",
    "        print(\"this two strings are same\")\n",
    "    else:\n",
    "        print('Print this if ont satisisfied this condition ')\n",
    "else:\n",
    "    print(\" This is my second else statement for first if\")"
   ]
  },
  {
   "cell_type": "code",
   "execution_count": 64,
   "metadata": {},
   "outputs": [
    {
     "name": "stdout",
     "output_type": "stream",
     "text": [
      " This is my second else statement for first if\n"
     ]
    }
   ],
   "source": [
    "F = \"Fabian Vaz\"\n",
    "if False:\n",
    "    if F == \"Fabian Va\":\n",
    "        print(\"this two strings are same\")\n",
    "    else:\n",
    "        print('Print this if ont satisisfied this condition ')\n",
    "else:\n",
    "    print(\" This is my second else statement for first if\")"
   ]
  },
  {
   "cell_type": "code",
   "execution_count": 69,
   "metadata": {},
   "outputs": [
    {
     "name": "stdout",
     "output_type": "stream",
     "text": [
      "less than 3\n"
     ]
    }
   ],
   "source": [
    "i =2 \n",
    "if i < 3 and i > 1:\n",
    "    print (\"less than 3\")\n",
    "elif i < 5:\n",
    "    print (\"less than 5\")\n",
    "else:\n",
    "    print('5 or more')\n",
    "    "
   ]
  },
  {
   "cell_type": "code",
   "execution_count": null,
   "metadata": {},
   "outputs": [
    {
     "name": "stdout",
     "output_type": "stream",
     "text": [
      "Rolling the dice, please wait!\n",
      "Rolling results for dies No 1 3\n",
      "Rolling results for dies No 2 6\n",
      "Do you want to roll again? y\n",
      "Rolling the dice, please wait!\n",
      "Rolling results for dies No 1 6\n",
      "Rolling results for dies No 2 5\n",
      "Do you want to roll again? y\n",
      "Rolling the dice, please wait!\n",
      "Rolling results for dies No 1 2\n",
      "Rolling results for dies No 2 4\n",
      "Do you want to roll again? y\n",
      "Rolling the dice, please wait!\n",
      "Rolling results for dies No 1 4\n",
      "Rolling results for dies No 2 6\n"
     ]
    }
   ],
   "source": [
    "import random\n",
    "\n",
    "keep_rolling = 'y'\n",
    "\n",
    "while keep_rolling == 'y':\n",
    "    print('Rolling the dice, please wait!')\n",
    "    print('Rolling results for dies No 1', random.randint(1,6))\n",
    "    print('Rolling results for dies No 2', random.randint(1,6))\n",
    "    \n",
    "    keep_rolling = input('Do you want to roll again? ')"
   ]
  },
  {
   "cell_type": "code",
   "execution_count": null,
   "metadata": {},
   "outputs": [],
   "source": [
    "print(\"Keep entering numbers and I will dispaly the average for you!\")\n",
    "\n",
    "avg = 0\n",
    "n = 0\n",
    "\n",
    "while True:\n",
    "    x = input('Enter a number')\n",
    "    \n",
    "    if x =='e':\n",
    "        break\n",
    "        \n",
    "    x = int(x)\n",
    "    n = n + 1\n",
    "    \n",
    "    avg = ((avg) * (n-1)) + x) / n \n",
    "    print('the current avaerage is', avg)"
   ]
  },
  {
   "cell_type": "code",
   "execution_count": 71,
   "metadata": {},
   "outputs": [
    {
     "data": {
      "text/plain": [
       "['AA', 'BB', 'CC', 55, 56, (6+7j)]"
      ]
     },
     "execution_count": 71,
     "metadata": {},
     "output_type": "execute_result"
    }
   ],
   "source": [
    "Fabian = ['AA', \"BB\",'CC', 55, 56, 6+7j]\n",
    "Fabian"
   ]
  },
  {
   "cell_type": "code",
   "execution_count": 75,
   "metadata": {},
   "outputs": [
    {
     "data": {
      "text/plain": [
       "['BB', 'CC', 55, 56, (6+7j)]"
      ]
     },
     "execution_count": 75,
     "metadata": {},
     "output_type": "execute_result"
    }
   ],
   "source": [
    "Fabian[1:7]"
   ]
  },
  {
   "cell_type": "code",
   "execution_count": 73,
   "metadata": {},
   "outputs": [
    {
     "data": {
      "text/plain": [
       "56"
      ]
     },
     "execution_count": 73,
     "metadata": {},
     "output_type": "execute_result"
    }
   ],
   "source": [
    "Fabian[-2]"
   ]
  },
  {
   "cell_type": "code",
   "execution_count": 76,
   "metadata": {},
   "outputs": [
    {
     "data": {
      "text/plain": [
       "['BB', 55, (6+7j)]"
      ]
     },
     "execution_count": 76,
     "metadata": {},
     "output_type": "execute_result"
    }
   ],
   "source": [
    "Fabian[1:7:2]"
   ]
  },
  {
   "cell_type": "code",
   "execution_count": 77,
   "metadata": {},
   "outputs": [
    {
     "data": {
      "text/plain": [
       "['AA', 'CC', 56]"
      ]
     },
     "execution_count": 77,
     "metadata": {},
     "output_type": "execute_result"
    }
   ],
   "source": [
    "Fabian[0:7:2]"
   ]
  },
  {
   "cell_type": "code",
   "execution_count": 78,
   "metadata": {},
   "outputs": [
    {
     "data": {
      "text/plain": [
       "[56, 55, 'CC']"
      ]
     },
     "execution_count": 78,
     "metadata": {},
     "output_type": "execute_result"
    }
   ],
   "source": [
    "Fabian[4:1:-1]"
   ]
  },
  {
   "cell_type": "code",
   "execution_count": 79,
   "metadata": {},
   "outputs": [
    {
     "data": {
      "text/plain": [
       "[(6+7j), 56, 55, 'CC', 'BB', 'AA']"
      ]
     },
     "execution_count": 79,
     "metadata": {},
     "output_type": "execute_result"
    }
   ],
   "source": [
    "Fabian[::-1]"
   ]
  },
  {
   "cell_type": "code",
   "execution_count": 80,
   "metadata": {},
   "outputs": [
    {
     "data": {
      "text/plain": [
       "['AA', 'BB', 'CC', 55, 56, (6+7j)]"
      ]
     },
     "execution_count": 80,
     "metadata": {},
     "output_type": "execute_result"
    }
   ],
   "source": [
    "Fabian[::1]"
   ]
  },
  {
   "cell_type": "code",
   "execution_count": 84,
   "metadata": {},
   "outputs": [
    {
     "name": "stdout",
     "output_type": "stream",
     "text": [
      "AA\n",
      "BB\n",
      "CC\n"
     ]
    }
   ],
   "source": [
    "Fabian = ['AA', \"BB\",'CC', 55, 56, 6+7j]\n",
    "for i in Fabian:\n",
    "    if type(i) == str:\n",
    "        print(i)"
   ]
  },
  {
   "cell_type": "code",
   "execution_count": 85,
   "metadata": {},
   "outputs": [
    {
     "name": "stdout",
     "output_type": "stream",
     "text": [
      "['AA']\n",
      "['AA', 'BB']\n",
      "['AA', 'BB', 'CC']\n"
     ]
    }
   ],
   "source": [
    "Fabian = ['AA', \"BB\",'CC', 55, 56, 6+7j]\n",
    "b = []\n",
    "for i in Fabian:\n",
    "    if type(i) == str:\n",
    "        b.append(i)\n",
    "        print(b)"
   ]
  },
  {
   "cell_type": "code",
   "execution_count": 1,
   "metadata": {},
   "outputs": [
    {
     "data": {
      "text/plain": [
       "['fabian', 'vaz']"
      ]
     },
     "execution_count": 1,
     "metadata": {},
     "output_type": "execute_result"
    }
   ],
   "source": [
    "m=list([\"fabian\", \"vaz\"])\n",
    "m"
   ]
  },
  {
   "cell_type": "code",
   "execution_count": 2,
   "metadata": {},
   "outputs": [
    {
     "data": {
      "text/plain": [
       "'F'"
      ]
     },
     "execution_count": 2,
     "metadata": {},
     "output_type": "execute_result"
    }
   ],
   "source": [
    "F =\"Fabian\"\n",
    "F[0]"
   ]
  },
  {
   "cell_type": "code",
   "execution_count": 45,
   "metadata": {},
   "outputs": [],
   "source": [
    "l=[]\n",
    "l.append('fabian')\n",
    "l.append('stefina')\n",
    "l.append('ria')\n",
    "l.append('rijo')\n",
    "l.append(['ABC',5,6,7])\n",
    "\n",
    "\n",
    "l.insert(-1,[\"fabian\", 'vaz'])\n"
   ]
  },
  {
   "cell_type": "code",
   "execution_count": 46,
   "metadata": {},
   "outputs": [
    {
     "data": {
      "text/plain": [
       "['fabian', 'stefina', 'ria', 'rijo', ['fabian', 'vaz'], ['ABC', 5, 6, 7]]"
      ]
     },
     "execution_count": 46,
     "metadata": {},
     "output_type": "execute_result"
    }
   ],
   "source": [
    "l"
   ]
  },
  {
   "cell_type": "code",
   "execution_count": 49,
   "metadata": {},
   "outputs": [
    {
     "name": "stdout",
     "output_type": "stream",
     "text": [
      "fabian\n",
      "['fabian', 'vaz']\n",
      "stefina\n",
      "ria\n",
      "rijo\n",
      "['fabian', 'vaz']\n",
      "['ABC', 5, 6, 7]\n"
     ]
    }
   ],
   "source": [
    "m =[]\n",
    "for i in l:\n",
    "    print(i)\n",
    "    m.append(i[::-1])"
   ]
  },
  {
   "cell_type": "code",
   "execution_count": 47,
   "metadata": {},
   "outputs": [
    {
     "data": {
      "text/plain": [
       "['fabian',\n",
       " ['fabian', 'vaz'],\n",
       " 'stefina',\n",
       " 'ria',\n",
       " 'rijo',\n",
       " ['fabian', 'vaz'],\n",
       " ['ABC', 5, 6, 7]]"
      ]
     },
     "execution_count": 47,
     "metadata": {},
     "output_type": "execute_result"
    }
   ],
   "source": [
    "l.insert(1,[\"fabian\", 'vaz'])\n",
    "l"
   ]
  },
  {
   "cell_type": "code",
   "execution_count": 48,
   "metadata": {},
   "outputs": [
    {
     "data": {
      "text/plain": [
       "'anifets'"
      ]
     },
     "execution_count": 48,
     "metadata": {},
     "output_type": "execute_result"
    }
   ],
   "source": [
    "l[2][::-1]"
   ]
  },
  {
   "cell_type": "code",
   "execution_count": 40,
   "metadata": {},
   "outputs": [
    {
     "data": {
      "text/plain": [
       "'tefin'"
      ]
     },
     "execution_count": 40,
     "metadata": {},
     "output_type": "execute_result"
    }
   ],
   "source": [
    "l[2][1:-1]"
   ]
  },
  {
   "cell_type": "code",
   "execution_count": 28,
   "metadata": {},
   "outputs": [
    {
     "data": {
      "text/plain": [
       "['f', 'a', 'b', 'i', 'a', 'n']"
      ]
     },
     "execution_count": 28,
     "metadata": {},
     "output_type": "execute_result"
    }
   ],
   "source": [
    "list(l[0][0])"
   ]
  },
  {
   "cell_type": "code",
   "execution_count": 31,
   "metadata": {},
   "outputs": [],
   "source": [
    "l1 = [1,2,3,4,5]\n",
    "l2 = [6,7,[8,9,10], \"jesus\"]"
   ]
  },
  {
   "cell_type": "code",
   "execution_count": 32,
   "metadata": {},
   "outputs": [
    {
     "data": {
      "text/plain": [
       "[1, 2, 3, 4, 5, 6, 7, [8, 9, 10], 'jesus']"
      ]
     },
     "execution_count": 32,
     "metadata": {},
     "output_type": "execute_result"
    }
   ],
   "source": [
    "l1+l2"
   ]
  },
  {
   "cell_type": "code",
   "execution_count": 34,
   "metadata": {},
   "outputs": [
    {
     "data": {
      "text/plain": [
       "[1, 2, 3, 4, 5, 'fabian']"
      ]
     },
     "execution_count": 34,
     "metadata": {},
     "output_type": "execute_result"
    }
   ],
   "source": [
    "l1+['fabian']"
   ]
  },
  {
   "cell_type": "code",
   "execution_count": null,
   "metadata": {},
   "outputs": [],
   "source": []
  }
 ],
 "metadata": {
  "kernelspec": {
   "display_name": "Python 3",
   "language": "python",
   "name": "python3"
  },
  "language_info": {
   "codemirror_mode": {
    "name": "ipython",
    "version": 3
   },
   "file_extension": ".py",
   "mimetype": "text/x-python",
   "name": "python",
   "nbconvert_exporter": "python",
   "pygments_lexer": "ipython3",
   "version": "3.7.6"
  }
 },
 "nbformat": 4,
 "nbformat_minor": 4
}
